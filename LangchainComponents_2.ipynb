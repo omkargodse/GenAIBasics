{
 "cells": [
  {
   "cell_type": "markdown",
   "id": "45305233-7032-4b57-b793-b1fac8a3ae76",
   "metadata": {},
   "source": [
    "**Lanchain memory - ConversationBufferMemory**"
   ]
  },
  {
   "cell_type": "code",
   "execution_count": null,
   "id": "6398083f-6f01-46fc-826a-be2d62e99181",
   "metadata": {},
   "outputs": [],
   "source": [
    "ConversationBufferMemory is used to see all the memory from beginning."
   ]
  },
  {
   "cell_type": "code",
   "execution_count": null,
   "id": "227fbe98-b732-4855-ac1a-c320bedfdd55",
   "metadata": {},
   "outputs": [],
   "source": [
    "myKey='<OPENAI API KEY>'"
   ]
  },
  {
   "cell_type": "code",
   "execution_count": 13,
   "id": "40955431-8459-46cf-bdeb-91eea648fa33",
   "metadata": {},
   "outputs": [],
   "source": [
    "from langchain.memory import ConversationBufferMemory\n",
    "from langchain import PromptTemplate\n",
    "from langchain import OpenAI\n",
    "from langchain.chains import LLMChain"
   ]
  },
  {
   "cell_type": "code",
   "execution_count": 3,
   "id": "a0351d5e-13f4-4074-a8bf-3ef5b8017de2",
   "metadata": {},
   "outputs": [
    {
     "name": "stderr",
     "output_type": "stream",
     "text": [
      "C:\\Users\\Anurag\\AppData\\Local\\Temp\\ipykernel_26900\\995385594.py:1: LangChainDeprecationWarning: Please see the migration guide at: https://python.langchain.com/docs/versions/migrating_memory/\n",
      "  memory = ConversationBufferMemory()\n"
     ]
    }
   ],
   "source": [
    "memory = ConversationBufferMemory()"
   ]
  },
  {
   "cell_type": "code",
   "execution_count": 17,
   "id": "1e12aa79-fc64-4879-8d85-122e38a83db4",
   "metadata": {},
   "outputs": [],
   "source": [
    "prompt = PromptTemplate(\n",
    "    input_variables=[\"product\"],\n",
    "    template=\"Can you suggest a name for company that makes {product}?\"\n",
    ")"
   ]
  },
  {
   "cell_type": "code",
   "execution_count": 11,
   "id": "8ba11767-5cf4-4bce-b8e7-58bbd18fb325",
   "metadata": {},
   "outputs": [],
   "source": [
    "client = OpenAI(openai_api_key=myKey)"
   ]
  },
  {
   "cell_type": "code",
   "execution_count": 14,
   "id": "75a19861-aabe-458e-986f-47911f05a7cf",
   "metadata": {},
   "outputs": [
    {
     "name": "stderr",
     "output_type": "stream",
     "text": [
      "C:\\Users\\Anurag\\AppData\\Local\\Temp\\ipykernel_26900\\3858663785.py:1: LangChainDeprecationWarning: The class `LLMChain` was deprecated in LangChain 0.1.17 and will be removed in 1.0. Use :meth:`~RunnableSequence, e.g., `prompt | llm`` instead.\n",
      "  chain = LLMChain(llm=client,prompt=prompt,memory=memory)\n"
     ]
    }
   ],
   "source": [
    "chain = LLMChain(llm=client,prompt=prompt,memory=memory)"
   ]
  },
  {
   "cell_type": "code",
   "execution_count": 15,
   "id": "ca95b984-def3-4d8c-b4b2-24768f06ba12",
   "metadata": {},
   "outputs": [
    {
     "data": {
      "text/plain": [
       "{'product': 'Camera',\n",
       " 'history': '',\n",
       " 'text': '\\n\\n1. LensTech\\n2. ShutterWorks\\n3. FocusCapture\\n4. SnapVision\\n5. PixelPro\\n6. CaptureCo\\n7. CameraCraft\\n8. ZoomInnovations\\n9. FlashWorks\\n10. ApertureTech\\n11. OptiCapture\\n12. FrameForge\\n13. ProShutter\\n14. ImageInnovators\\n15. SnapTech Solutions.'}"
      ]
     },
     "execution_count": 15,
     "metadata": {},
     "output_type": "execute_result"
    }
   ],
   "source": [
    "chain.invoke(\"Camera\")"
   ]
  },
  {
   "cell_type": "code",
   "execution_count": 19,
   "id": "ae9053a0-3b7f-4a31-9d97-b4ebe4fc175c",
   "metadata": {},
   "outputs": [
    {
     "data": {
      "text/plain": [
       "{'product': 'Fossil Watch for men',\n",
       " 'history': 'Human: Camera\\nAI: \\n\\n1. LensTech\\n2. ShutterWorks\\n3. FocusCapture\\n4. SnapVision\\n5. PixelPro\\n6. CaptureCo\\n7. CameraCraft\\n8. ZoomInnovations\\n9. FlashWorks\\n10. ApertureTech\\n11. OptiCapture\\n12. FrameForge\\n13. ProShutter\\n14. ImageInnovators\\n15. SnapTech Solutions.\\nHuman: Condoms\\nAI: \\n\\n1. \"SafeGuard\"\\n2. \"PleasureMate\"\\n3. \"IntimaWrap\"\\n4. \"Proteq\"\\n5. \"LoveShield\"\\n6. \"SensualCover\"\\n7. \"CondomNation\"\\n8. \"CareMate\"\\n9. \"IntiMate\"\\n10. \"DesireGuard\"\\nHuman: Fossil Watch for men\\nAI: \\n\"Timeless Timepieces Co.\"',\n",
       " 'text': \"\\n\\n1. Timeless Timepieces Co.\\n2. Men's Fossil Co.\\n3. Chronos Co.\\n4. Legacy Watch Co.\\n5. Men's Heritage Co.\\n6. The Fossil Gentlemen Co.\\n7. Vintage Watch Co.\\n8. Men's Time Co.\\n9. Classic Chronographs Co.\\n10. The Fossil Authority Co.\"}"
      ]
     },
     "execution_count": 19,
     "metadata": {},
     "output_type": "execute_result"
    }
   ],
   "source": [
    "chain.invoke('Fossil Watch for men')"
   ]
  },
  {
   "cell_type": "code",
   "execution_count": 21,
   "id": "f7c762b2-4b95-4cee-939a-7e4952b58cfa",
   "metadata": {},
   "outputs": [
    {
     "name": "stdout",
     "output_type": "stream",
     "text": [
      "Human: Camera\n",
      "AI: \n",
      "\n",
      "1. LensTech\n",
      "2. ShutterWorks\n",
      "3. FocusCapture\n",
      "4. SnapVision\n",
      "5. PixelPro\n",
      "6. CaptureCo\n",
      "7. CameraCraft\n",
      "8. ZoomInnovations\n",
      "9. FlashWorks\n",
      "10. ApertureTech\n",
      "11. OptiCapture\n",
      "12. FrameForge\n",
      "13. ProShutter\n",
      "14. ImageInnovators\n",
      "15. SnapTech Solutions.\n",
      "Human: Condoms\n",
      "AI: \n",
      "\n",
      "1. \"SafeGuard\"\n",
      "2. \"PleasureMate\"\n",
      "3. \"IntimaWrap\"\n",
      "4. \"Proteq\"\n",
      "5. \"LoveShield\"\n",
      "6. \"SensualCover\"\n",
      "7. \"CondomNation\"\n",
      "8. \"CareMate\"\n",
      "9. \"IntiMate\"\n",
      "10. \"DesireGuard\"\n",
      "Human: Fossil Watch for men\n",
      "AI: \n",
      "\"Timeless Timepieces Co.\"\n",
      "Human: Fossil Watch for men\n",
      "AI: \n",
      "\n",
      "1. Timeless Timepieces Co.\n",
      "2. Men's Fossil Co.\n",
      "3. Chronos Co.\n",
      "4. Legacy Watch Co.\n",
      "5. Men's Heritage Co.\n",
      "6. The Fossil Gentlemen Co.\n",
      "7. Vintage Watch Co.\n",
      "8. Men's Time Co.\n",
      "9. Classic Chronographs Co.\n",
      "10. The Fossil Authority Co.\n"
     ]
    },
    {
     "ename": "AttributeError",
     "evalue": "'NoneType' object has no attribute 'strip'",
     "output_type": "error",
     "traceback": [
      "\u001b[31m---------------------------------------------------------------------------\u001b[39m",
      "\u001b[31mAttributeError\u001b[39m                            Traceback (most recent call last)",
      "\u001b[36mCell\u001b[39m\u001b[36m \u001b[39m\u001b[32mIn[21]\u001b[39m\u001b[32m, line 1\u001b[39m\n\u001b[32m----> \u001b[39m\u001b[32m1\u001b[39m \u001b[38;5;28mprint\u001b[39m(chain.memory.buffer).strip()\n",
      "\u001b[31mAttributeError\u001b[39m: 'NoneType' object has no attribute 'strip'"
     ]
    }
   ],
   "source": [
    "print(chain.memory.buffer).strip()"
   ]
  },
  {
   "cell_type": "markdown",
   "id": "fbacee4e-e0cf-4f51-beaa-4e1fad5639af",
   "metadata": {},
   "source": [
    "**Langchain memory - ConversationChain**"
   ]
  },
  {
   "cell_type": "code",
   "execution_count": null,
   "id": "24f133ff-84b7-4ad0-974e-af6c8499faa7",
   "metadata": {},
   "outputs": [],
   "source": [
    "Conversation chain is mainly used to remember the conversation when chatting with chatbot"
   ]
  },
  {
   "cell_type": "code",
   "execution_count": 23,
   "id": "35232413-e3f1-4368-806e-b0ee8203e243",
   "metadata": {},
   "outputs": [],
   "source": [
    "from langchain.chains import ConversationChain"
   ]
  },
  {
   "cell_type": "code",
   "execution_count": 25,
   "id": "e7350fd6-ebcb-4f3f-bf4c-55b01784361b",
   "metadata": {},
   "outputs": [
    {
     "name": "stderr",
     "output_type": "stream",
     "text": [
      "C:\\Users\\Anurag\\AppData\\Local\\Temp\\ipykernel_26900\\3527119096.py:2: LangChainDeprecationWarning: The class `ConversationChain` was deprecated in LangChain 0.2.7 and will be removed in 1.0. Use :meth:`~RunnableWithMessageHistory: https://python.langchain.com/v0.2/api_reference/core/runnables/langchain_core.runnables.history.RunnableWithMessageHistory.html` instead.\n",
      "  convo = ConversationChain(llm=client)\n"
     ]
    }
   ],
   "source": [
    "client = OpenAI(openai_api_key=myKey,temperature=0.7)\n",
    "convo = ConversationChain(llm=client)"
   ]
  },
  {
   "cell_type": "code",
   "execution_count": 27,
   "id": "2fe1fc7b-b45b-42df-a0ba-b21792459768",
   "metadata": {},
   "outputs": [
    {
     "data": {
      "text/plain": [
       "PromptTemplate(input_variables=['history', 'input'], input_types={}, partial_variables={}, template='The following is a friendly conversation between a human and an AI. The AI is talkative and provides lots of specific details from its context. If the AI does not know the answer to a question, it truthfully says it does not know.\\n\\nCurrent conversation:\\n{history}\\nHuman: {input}\\nAI:')"
      ]
     },
     "execution_count": 27,
     "metadata": {},
     "output_type": "execute_result"
    }
   ],
   "source": [
    "convo.prompt"
   ]
  },
  {
   "cell_type": "code",
   "execution_count": 28,
   "id": "8932c9ef-09c8-47e9-9a36-d3510ce39867",
   "metadata": {},
   "outputs": [
    {
     "data": {
      "text/plain": [
       "{'input': 'Who was the first astronout to land on moon?',\n",
       " 'history': '',\n",
       " 'response': ' The first astronaut to land on the moon was Neil Armstrong, commander of the Apollo 11 mission. He landed on the moon on July 20, 1969 and famously declared \"That\\'s one small step for man, one giant leap for mankind.\" His fellow astronaut, Buzz Aldrin, also walked on the moon during this mission.'}"
      ]
     },
     "execution_count": 28,
     "metadata": {},
     "output_type": "execute_result"
    }
   ],
   "source": [
    "convo.invoke(\"Who was the first astronout to land on moon?\")"
   ]
  },
  {
   "cell_type": "code",
   "execution_count": 30,
   "id": "1916d78d-992d-44bb-abd3-6247a9437b1c",
   "metadata": {},
   "outputs": [
    {
     "name": "stderr",
     "output_type": "stream",
     "text": [
      "C:\\Users\\Anurag\\AppData\\Local\\Temp\\ipykernel_26900\\261845636.py:1: LangChainDeprecationWarning: The method `Chain.run` was deprecated in langchain 0.1.0 and will be removed in 1.0. Use :meth:`~invoke` instead.\n",
      "  convo.run(\"who made a first laptop?\")\n"
     ]
    },
    {
     "data": {
      "text/plain": [
       "' As I mentioned before, the first laptop was created in 1981 by Adam Osborne. However, it is also worth noting that the first commercially successful laptop was the IBM ThinkPad, released in 1992. It was designed by Richard Sapper and featured a clamshell design and a TrackPoint pointing device.'"
      ]
     },
     "execution_count": 30,
     "metadata": {},
     "output_type": "execute_result"
    }
   ],
   "source": [
    "convo.run(\"who made a first laptop?\")"
   ]
  },
  {
   "cell_type": "code",
   "execution_count": 31,
   "id": "186c563c-fa1b-4aa4-9f21-3d5ef9009533",
   "metadata": {},
   "outputs": [
    {
     "data": {
      "text/plain": [
       "' That is a philosophical question that has been debated by many throughout history. As an AI, I do not have personal experiences or emotions, so I am not able to provide a definitive answer. However, some believe that life is about finding happiness and fulfillment, while others believe it is about fulfilling a greater purpose or destiny. Ultimately, the meaning of life may be different for each individual.'"
      ]
     },
     "execution_count": 31,
     "metadata": {},
     "output_type": "execute_result"
    }
   ],
   "source": [
    "convo.run(\"what is life all about?\")"
   ]
  },
  {
   "cell_type": "code",
   "execution_count": 32,
   "id": "662dc9e0-abd2-44e3-979b-0fd0fc4dae3d",
   "metadata": {},
   "outputs": [
    {
     "data": {
      "text/plain": [
       "\" The second astronaut to land on the moon was Buzz Aldrin, who was also a part of the Apollo 11 mission with Neil Armstrong. He is known for being the second person to walk on the moon and for taking the iconic photograph of Armstrong on the moon's surface.\""
      ]
     },
     "execution_count": 32,
     "metadata": {},
     "output_type": "execute_result"
    }
   ],
   "source": [
    "convo.run(\"and who was the second astronout?\")"
   ]
  },
  {
   "cell_type": "markdown",
   "id": "1155f1f4-a1a2-406e-8c99-0390ef889312",
   "metadata": {},
   "source": [
    "**Lanchain Memory - ConversationBufferWindowMemory**"
   ]
  },
  {
   "cell_type": "code",
   "execution_count": null,
   "id": "06d1fd49-d2f3-4c07-9283-d4795bd3ada5",
   "metadata": {},
   "outputs": [],
   "source": [
    "ConversationBufferWindowMemory used to restrict memory till certain prompts."
   ]
  },
  {
   "cell_type": "code",
   "execution_count": 71,
   "id": "f667b0ea-4f26-4e7a-b1c6-b4fb11949626",
   "metadata": {},
   "outputs": [],
   "source": [
    "from langchain.chains import ConversationChain\n",
    "from langchain.memory import ConversationBufferWindowMemory\n",
    "from langchain import OpenAI\n",
    "\n",
    "client = OpenAI(openai_api_key = myKey)\n",
    "memory = ConversationBufferWindowMemory(k=4)\n",
    "convo = ConversationChain(llm=client,memory = memory)\n"
   ]
  },
  {
   "cell_type": "code",
   "execution_count": 72,
   "id": "c0489e90-9810-4375-bdf5-2cde09eeeeab",
   "metadata": {},
   "outputs": [
    {
     "data": {
      "text/plain": [
       "\" The first ever cricket world cup was won by the West Indies team in 1975. They defeated Australia in the final match and became the inaugural champions. The man of the match was West Indies' captain, Clive Lloyd, who scored 102 runs.\""
      ]
     },
     "execution_count": 72,
     "metadata": {},
     "output_type": "execute_result"
    }
   ],
   "source": [
    "convo.run(\"who won the first ever cricket worldcup??\")"
   ]
  },
  {
   "cell_type": "code",
   "execution_count": 73,
   "id": "fd94ef83-46d3-4740-b988-6c7b984ec397",
   "metadata": {},
   "outputs": [
    {
     "data": {
      "text/plain": [
       "' The answer to 2+3 is 5. This is a basic math equation that can also be written as 2 plus 3 equals 5. Did you know that the concept of addition has been around since ancient times and was first formalized by the ancient Greeks?'"
      ]
     },
     "execution_count": 73,
     "metadata": {},
     "output_type": "execute_result"
    }
   ],
   "source": [
    "convo.run(\"what is 2+3\")"
   ]
  },
  {
   "cell_type": "code",
   "execution_count": 74,
   "id": "3579063a-d162-4a84-85da-b9a044758be4",
   "metadata": {},
   "outputs": [
    {
     "data": {
      "text/plain": [
       "' The answer to 6+6 is 12. This is a simple addition problem that can also be expressed as 6 plus 6 equals 12. Interestingly, in Roman numerals, the number 12 is represented by the letters XII.'"
      ]
     },
     "execution_count": 74,
     "metadata": {},
     "output_type": "execute_result"
    }
   ],
   "source": [
    "convo.run(\"what is 6+6\")"
   ]
  },
  {
   "cell_type": "code",
   "execution_count": 75,
   "id": "a41b920f-9768-4078-a3ba-3501170f77b6",
   "metadata": {},
   "outputs": [
    {
     "data": {
      "text/plain": [
       "\" The captain of the winning West Indies team in the first cricket world cup was Clive Lloyd. He was a left-handed batsman and all-rounder who also served as the team's captain from 1974 to 1985. He led the team to two consecutive world cup victories in 1975 and 1979.\""
      ]
     },
     "execution_count": 75,
     "metadata": {},
     "output_type": "execute_result"
    }
   ],
   "source": [
    "convo.run(\"and who was the captain of winning team?\")"
   ]
  },
  {
   "cell_type": "code",
   "execution_count": null,
   "id": "132b5437-ac99-4732-ad4f-4c46f25e5f3d",
   "metadata": {},
   "outputs": [],
   "source": []
  }
 ],
 "metadata": {
  "kernelspec": {
   "display_name": "Python 3 (ipykernel)",
   "language": "python",
   "name": "python3"
  },
  "language_info": {
   "codemirror_mode": {
    "name": "ipython",
    "version": 3
   },
   "file_extension": ".py",
   "mimetype": "text/x-python",
   "name": "python",
   "nbconvert_exporter": "python",
   "pygments_lexer": "ipython3",
   "version": "3.12.7"
  }
 },
 "nbformat": 4,
 "nbformat_minor": 5
}
