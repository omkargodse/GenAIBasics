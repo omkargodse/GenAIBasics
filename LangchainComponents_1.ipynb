{
 "cells": [
  {
   "cell_type": "code",
   "execution_count": null,
   "id": "beebd0ca-7e46-409a-9c26-5060f72146e8",
   "metadata": {},
   "outputs": [],
   "source": [
    "myKey='<Your Open AI API Key>'"
   ]
  },
  {
   "cell_type": "code",
   "execution_count": 3,
   "id": "11978718-fd6f-47ec-bc40-bf0ac891b302",
   "metadata": {},
   "outputs": [],
   "source": [
    "import langchain\n",
    "from langchain import OpenAI"
   ]
  },
  {
   "cell_type": "code",
   "execution_count": 5,
   "id": "4f5cc123-f533-4914-9eb9-6524b1e9df6e",
   "metadata": {},
   "outputs": [],
   "source": [
    "client = OpenAI(openai_api_key=myKey)"
   ]
  },
  {
   "cell_type": "code",
   "execution_count": 6,
   "id": "eb86b3bf-b4db-48f4-84d2-d1edfcfaa7fc",
   "metadata": {},
   "outputs": [],
   "source": [
    "prompt = \"Tell me total number of counties in Asia. And Top 10 countries\""
   ]
  },
  {
   "cell_type": "markdown",
   "id": "0941652b-249a-484e-8bc4-b836196cd4fb",
   "metadata": {},
   "source": [
    "client.invoke(prompt).strip()"
   ]
  },
  {
   "cell_type": "markdown",
   "id": "7c5c3dd0-68c8-471a-bc52-cfd8ce7377bf",
   "metadata": {},
   "source": [
    "**Prompt Template**"
   ]
  },
  {
   "cell_type": "code",
   "execution_count": 12,
   "id": "61ef4f31-50e7-46ae-9d5e-e104e874835e",
   "metadata": {},
   "outputs": [],
   "source": [
    "from langchain.prompts import PromptTemplate"
   ]
  },
  {
   "cell_type": "code",
   "execution_count": 20,
   "id": "76f9eea4-7828-4357-bde0-04d848afafd8",
   "metadata": {},
   "outputs": [],
   "source": [
    "prompt_template_var = PromptTemplate(\n",
    "    input_variables=[\"country\"],\n",
    "    template=\"can you tell me the capital of {country} ?\"\n",
    ")"
   ]
  },
  {
   "cell_type": "code",
   "execution_count": 21,
   "id": "c108148a-1122-494f-991b-bd5beb1bf01b",
   "metadata": {},
   "outputs": [],
   "source": [
    "prompt1=prompt_template_var.format(country=\"India\")"
   ]
  },
  {
   "cell_type": "code",
   "execution_count": 22,
   "id": "63ccbeae-09b5-4da6-801b-801b111a2c93",
   "metadata": {},
   "outputs": [
    {
     "data": {
      "text/plain": [
       "'can you tell me the capital of India ?'"
      ]
     },
     "execution_count": 22,
     "metadata": {},
     "output_type": "execute_result"
    }
   ],
   "source": [
    "prompt1"
   ]
  },
  {
   "cell_type": "code",
   "execution_count": 24,
   "id": "b0034b94-af77-45c5-9387-1c0fa799b5cb",
   "metadata": {},
   "outputs": [],
   "source": [
    "prompt2 = prompt_template_var.format(country='china')"
   ]
  },
  {
   "cell_type": "code",
   "execution_count": 25,
   "id": "2c068e0a-4b6a-4115-b272-ea2c2cad3816",
   "metadata": {},
   "outputs": [
    {
     "data": {
      "text/plain": [
       "'can you tell me the capital of china ?'"
      ]
     },
     "execution_count": 25,
     "metadata": {},
     "output_type": "execute_result"
    }
   ],
   "source": [
    "prompt2"
   ]
  },
  {
   "cell_type": "code",
   "execution_count": 27,
   "id": "20c09919-a3be-4a37-9e7d-473b5e477bb7",
   "metadata": {},
   "outputs": [
    {
     "data": {
      "text/plain": [
       "'The capital of India is New Delhi.'"
      ]
     },
     "execution_count": 27,
     "metadata": {},
     "output_type": "execute_result"
    }
   ],
   "source": [
    "client.invoke(prompt1).strip()"
   ]
  },
  {
   "cell_type": "code",
   "execution_count": 28,
   "id": "2f8ac6ef-ae3e-46e8-b1ec-b8033e19584f",
   "metadata": {},
   "outputs": [
    {
     "data": {
      "text/plain": [
       "'The capital of China is Beijing.'"
      ]
     },
     "execution_count": 28,
     "metadata": {},
     "output_type": "execute_result"
    }
   ],
   "source": [
    "client.invoke(prompt2).strip()"
   ]
  },
  {
   "cell_type": "code",
   "execution_count": 31,
   "id": "2fd065ae-a801-48c1-b9d1-efb88da54109",
   "metadata": {},
   "outputs": [],
   "source": [
    "prompt=PromptTemplate.from_template(\"What is the capital of {state} ?\")"
   ]
  },
  {
   "cell_type": "code",
   "execution_count": 32,
   "id": "7e9a81d5-530e-417e-8a84-e26b8351f15e",
   "metadata": {},
   "outputs": [],
   "source": [
    "prompt3=prompt.format(state=\"Maharashtra\")"
   ]
  },
  {
   "cell_type": "code",
   "execution_count": 33,
   "id": "9a177fda-b6bc-447a-a042-32b9c2298f64",
   "metadata": {},
   "outputs": [
    {
     "data": {
      "text/plain": [
       "'The capital of Maharashtra is Mumbai.'"
      ]
     },
     "execution_count": 33,
     "metadata": {},
     "output_type": "execute_result"
    }
   ],
   "source": [
    "client.invoke(prompt3).strip()"
   ]
  },
  {
   "cell_type": "code",
   "execution_count": 34,
   "id": "a0b27863-96fd-4e26-91b1-5a9ce07bfc01",
   "metadata": {},
   "outputs": [],
   "source": [
    "prompt4=prompt.format(state=\"Goa\")"
   ]
  },
  {
   "cell_type": "code",
   "execution_count": 35,
   "id": "2df0ef78-b270-4a64-a11f-eca61cb98583",
   "metadata": {},
   "outputs": [
    {
     "data": {
      "text/plain": [
       "'Panaji is the capital of Goa.'"
      ]
     },
     "execution_count": 35,
     "metadata": {},
     "output_type": "execute_result"
    }
   ],
   "source": [
    "client.invoke(prompt4).strip()"
   ]
  },
  {
   "cell_type": "code",
   "execution_count": 36,
   "id": "0fb5c488-33f9-477d-a5a4-ac5b428f98cf",
   "metadata": {},
   "outputs": [],
   "source": [
    "prompt_template_var=PromptTemplate(\n",
    "    input_variables=[\"city\",\"day\"],\n",
    "    template=\"What is the weather of {city} on {day}?\"\n",
    ")"
   ]
  },
  {
   "cell_type": "code",
   "execution_count": 38,
   "id": "5376fde6-8d73-4b7f-8ac3-75f83dc54dbd",
   "metadata": {},
   "outputs": [],
   "source": [
    "prompt=PromptTemplate.from_template(\"What is the weather of {city} on {day}?\")"
   ]
  },
  {
   "cell_type": "code",
   "execution_count": 39,
   "id": "49f12168-7803-469e-8262-d5c77b67318a",
   "metadata": {},
   "outputs": [],
   "source": [
    "prompt4=prompt.format(city=\"Pune\",day=\"Tomorrow\")"
   ]
  },
  {
   "cell_type": "code",
   "execution_count": 40,
   "id": "6be7762e-c04b-4916-80f8-e29797266e65",
   "metadata": {},
   "outputs": [
    {
     "data": {
      "text/plain": [
       "'I am an AI and I do not have access to real-time weather data. Please check a reliable weather forecast website or app for the latest weather information for Pune tomorrow.'"
      ]
     },
     "execution_count": 40,
     "metadata": {},
     "output_type": "execute_result"
    }
   ],
   "source": [
    "client.invoke(prompt4).strip()"
   ]
  },
  {
   "cell_type": "code",
   "execution_count": null,
   "id": "bcda0f94-bbf5-448f-a19b-97e132d21d12",
   "metadata": {},
   "outputs": [],
   "source": [
    "serpapi_key=\"<YOUR SERP_API KEY>\""
   ]
  },
  {
   "cell_type": "markdown",
   "id": "1249c593-a112-485a-824a-e32e941190aa",
   "metadata": {},
   "source": [
    "**Agent**"
   ]
  },
  {
   "cell_type": "code",
   "execution_count": 42,
   "id": "3579792b-2849-48b2-a7fd-2fa8f1c0cdf1",
   "metadata": {},
   "outputs": [],
   "source": [
    "from langchain.agents import AgentType\n",
    "from langchain.agents import load_tools\n",
    "from langchain.agents import initialize_agent\n",
    "from langchain.llms import OpenAI"
   ]
  },
  {
   "cell_type": "code",
   "execution_count": 44,
   "id": "38ce44db-fa13-4f7a-90f1-9f9278d9ceee",
   "metadata": {},
   "outputs": [],
   "source": [
    "client = OpenAI(openai_api_key=myKey)"
   ]
  },
  {
   "cell_type": "code",
   "execution_count": 47,
   "id": "057dd0cf-1d14-47dc-b7c7-44b3fd642dba",
   "metadata": {},
   "outputs": [],
   "source": [
    "tool=load_tools([\"serpapi\"],serpapi_api_key=serpapi_key,llm=client)"
   ]
  },
  {
   "cell_type": "code",
   "execution_count": 52,
   "id": "339c9b8f-f703-4fa6-8f4d-8bfa909d06e5",
   "metadata": {},
   "outputs": [],
   "source": [
    "agent=initialize_agent(tool,client,agent=AgentType.ZERO_SHOT_REACT_DESCRIPTION, verbose = True)"
   ]
  },
  {
   "cell_type": "code",
   "execution_count": 53,
   "id": "4c7a1aa5-f98a-455b-92a4-d6b1f5b861d3",
   "metadata": {},
   "outputs": [
    {
     "name": "stdout",
     "output_type": "stream",
     "text": [
      "\n",
      "\n",
      "\u001b[1m> Entering new AgentExecutor chain...\u001b[0m\n",
      "\u001b[32;1m\u001b[1;3m I should use a search engine to find the current weather forecast for Pune.\n",
      "Action: Search\n",
      "Action Input: \"Pune weather forecast tomorrow\"\u001b[0m\n",
      "Observation: \u001b[36;1m\u001b[1;3m{'type': 'weather_result', 'temperature': '79', 'unit': 'Fahrenheit', 'precipitation': '75%', 'humidity': '86%', 'wind': '8 mph', 'location': 'Pune, Maharashtra, India', 'date': 'Tuesday', 'weather': 'Heavy thunderstorm'}\u001b[0m\n",
      "\u001b[32;1m\u001b[1;3m I should check the unit of the temperature and convert it to Celsius if needed.\n",
      "Action: Check unit and convert if necessary\n",
      "Action Input: 79 Fahrenheit\u001b[0m\n",
      "Observation: Check unit and convert if necessary is not a valid tool, try one of [Search].\n",
      "\u001b[32;1m\u001b[1;3m I should use a search engine to find the current weather forecast for Pune.\n",
      "Action: Search\n",
      "Action Input: \"Pune weather forecast tomorrow\"\u001b[0m\n",
      "Observation: \u001b[36;1m\u001b[1;3m{'type': 'weather_result', 'temperature': '79', 'unit': 'Fahrenheit', 'precipitation': '75%', 'humidity': '86%', 'wind': '8 mph', 'location': 'Pune, Maharashtra, India', 'date': 'Tuesday', 'weather': 'Heavy thunderstorm'}\u001b[0m\n",
      "\u001b[32;1m\u001b[1;3m I should convert the temperature to Celsius by using the formula (F - 32) * 5/9\n",
      "Action: Convert temperature to Celsius\n",
      "Action Input: 79 Fahrenheit\u001b[0m\n",
      "Observation: Convert temperature to Celsius is not a valid tool, try one of [Search].\n",
      "\u001b[32;1m\u001b[1;3m I should use a search engine to find the current weather forecast for Pune.\n",
      "Action: Search\n",
      "Action Input: \"Pune weather forecast tomorrow\"\u001b[0m\n",
      "Observation: \u001b[36;1m\u001b[1;3m{'type': 'weather_result', 'temperature': '79', 'unit': 'Fahrenheit', 'precipitation': '75%', 'humidity': '86%', 'wind': '8 mph', 'location': 'Pune, Maharashtra, India', 'date': 'Tuesday', 'weather': 'Heavy thunderstorm'}\u001b[0m\n",
      "\u001b[32;1m\u001b[1;3m I now know the final answer.\n",
      "Final Answer: The weather forecast for Pune tomorrow is a heavy thunderstorm with a high of 79 degrees Fahrenheit and a low of 75% precipitation.\u001b[0m\n",
      "\n",
      "\u001b[1m> Finished chain.\u001b[0m\n"
     ]
    },
    {
     "data": {
      "text/plain": [
       "{'input': 'What is the weather of Pune on Tomorrow?',\n",
       " 'output': 'The weather forecast for Pune tomorrow is a heavy thunderstorm with a high of 79 degrees Fahrenheit and a low of 75% precipitation.'}"
      ]
     },
     "execution_count": 53,
     "metadata": {},
     "output_type": "execute_result"
    }
   ],
   "source": [
    "prompt=PromptTemplate.from_template(\"What is the weather of {city} on {day}?\")\n",
    "prompt4=prompt.format(city=\"Pune\",day=\"Tomorrow\")\n",
    "agent.invoke(prompt4)"
   ]
  },
  {
   "cell_type": "markdown",
   "id": "31b6795a-3b60-401a-b3b0-7339f2cf8056",
   "metadata": {},
   "source": [
    "**Chains**"
   ]
  },
  {
   "cell_type": "code",
   "execution_count": 65,
   "id": "d85fd016-4c8d-4802-a416-f1871ebbce49",
   "metadata": {},
   "outputs": [
    {
     "name": "stdout",
     "output_type": "stream",
     "text": [
      "{'product': 'Whiskey', 'text': '\\n\\n\"Distilled Legends\"'}\n",
      "{'product': 'Whiskey', 'text': '\\n\\n\"Barrel & Co. Distillery\" '}\n",
      "{'product': 'Whiskey', 'text': '\\n\\n\"Oak & Grain Distillery\"'}\n",
      "{'product': 'Whiskey', 'text': '\\n\\n1. \"Highlander Distillery\"\\n2. \"Oak & Grain Whiskey Co.\"\\n3. \"Cask & Still Spirits\"\\n4. \"Prohibition Spirits Co.\"\\n5. \"The Whiskey Forge\"\\n6. \"Rebel Rye Distilling\"\\n7. \"Barrel & Blade Whiskey Co.\"\\n8. \"Golden Grain Distillery\"\\n9. \"Smokey Mountain Whiskey Co.\"\\n10. \"The Whiskey Wayfare\"'}\n",
      "{'product': 'Whiskey', 'text': '\\n\\n1. \"Barrel & Co.\"\\n2. \"Prohibition Spirits\"\\n3. \"Malt Master Distillery\"\\n4. \"Oakwood Whiskey Co.\"\\n5. \"Golden Grain Distillers\"\\n6. \"Rebel Reserve Whiskey\"\\n7. \"Copper Pot Distillery\"\\n8. \"Whiskey Works Co.\"\\n9. \"The Whiskey Forge\"\\n10. \"Heritage Distilling Co.\"'}\n",
      "{'product': 'Whiskey', 'text': '\\n\\n\"Barrel & Beam Distillery Co.\" '}\n",
      "{'product': 'Whiskey', 'text': '\\n\\n\"Barrel & Bloom Distillery\"'}\n",
      "{'product': 'Whiskey', 'text': '\\n\\n\"Barrel & Oak Distillery\"'}\n",
      "{'product': 'Whiskey', 'text': '\\n\\n\"Oak & Grain Distillery\" or \"Cask & Co. Spirits\"'}\n",
      "{'product': 'Whiskey', 'text': '\\n\\n\"Oak & Grain Distillery Co.\"'}\n"
     ]
    }
   ],
   "source": [
    "from langchain.chains import LLMChain\n",
    "client = OpenAI(openai_api_key=myKey)\n",
    "promptTemplate = PromptTemplate.from_template(\"Can suggest a good name for company that makes {product}?\")\n",
    "chain = LLMChain(llm=client,prompt=promptTemplate)\n",
    "for i in range(0,10):\n",
    "    print(chain.invoke(\"Whiskey\"))\n"
   ]
  },
  {
   "cell_type": "code",
   "execution_count": 79,
   "id": "fb8dba30-3563-45a5-87be-8d264801ee61",
   "metadata": {},
   "outputs": [],
   "source": [
    "from langchain.chains import LLMChain\n",
    "client = OpenAI(openai_api_key=myKey)\n",
    "prompt = PromptTemplate(input_variables=[\"cuisin\"],\n",
    "                        template=\"I want to open a restaurant for {cuisin}. Suggest a good name for it.\")\n",
    "name_chain = LLMChain(llm=client,prompt=prompt, output_key=\"restaurant_name\")\n",
    "#chain.invoke(\"Arabian\")\n"
   ]
  },
  {
   "cell_type": "code",
   "execution_count": 82,
   "id": "b12add9d-4e79-48ad-9522-c9b2225ad51f",
   "metadata": {},
   "outputs": [],
   "source": [
    "from langchain.chains import LLMChain\n",
    "client = OpenAI(openai_api_key = myKey)\n",
    "prompt2 = PromptTemplate(input_variables=[\"restaurant_name\"],\n",
    "                         template=\"Suggest 10 menu items for {restaurant_name}\")\n",
    "menu_chain = LLMChain(llm=client,prompt=prompt2,output_key=\"menuItems\")"
   ]
  },
  {
   "cell_type": "code",
   "execution_count": 86,
   "id": "bb4ed752-8392-4fce-97ae-651cd92afafc",
   "metadata": {},
   "outputs": [
    {
     "data": {
      "text/plain": [
       "{'cuisin': 'Indian',\n",
       " 'restaurant_name': '\\n\\n\"Spice Junction\"',\n",
       " 'menuItems': '\\n1. Spicy Chicken Tikka Masala\\n2. Vegetable Biryani\\n3. Lamb Vindaloo\\n4. Chana Masala\\n5. Samosa Chaat\\n6. Tandoori Paneer Tikka\\n7. Aloo Gobi\\n8. Butter Chicken\\n9. Vegetable Korma\\n10. Mango Lassi (drink)'}"
      ]
     },
     "execution_count": 86,
     "metadata": {},
     "output_type": "execute_result"
    }
   ],
   "source": [
    "from langchain.chains import SequentialChain\n",
    "chain = SequentialChain(chains=[name_chain,menu_chain],\n",
    "                        input_variables=[\"cuisin\"],\n",
    "                       output_variables=[\"restaurant_name\",\"menuItems\"])\n",
    "chain({\"cuisin\":\"Indian\"})"
   ]
  },
  {
   "cell_type": "markdown",
   "id": "d814da39-23d1-477c-9aef-c0993e7c8f91",
   "metadata": {},
   "source": [
    "**Document Loader**"
   ]
  },
  {
   "cell_type": "code",
   "execution_count": 92,
   "id": "4371587d-a9ea-4255-a98e-e1a9f6a96186",
   "metadata": {},
   "outputs": [
    {
     "name": "stdout",
     "output_type": "stream",
     "text": [
      "[Document(metadata={'producer': 'Microsoft® Word 2016', 'creator': 'Microsoft® Word 2016', 'creationdate': '2025-04-09T08:58:32+05:30', 'author': 'Anurag', 'moddate': '2025-04-09T08:58:32+05:30', 'source': 'C:/Users/Anurag/Desktop/Updated Resume - Omkar Godse.pdf', 'total_pages': 2, 'page': 0, 'page_label': '1'}, page_content='Omkar Godse  \\nEmail Id: anurag.godse@gmail.com                                                         Contact: +91-9545424593  \\n  \\n  \\nProfile Summary:   \\nSoftware Engineer with 5.5 years of experience in Web Development, Enhancement, Maintenance & \\nSupport. Hands on experience with C#, .Net Core, Web API, Azure AI Services, MS - SQL Server \\nDatabase. Beginner in Generative AI – Python, Prompt Engineering, Chain of thoughts, Fine tuning, \\nFew shots. I describe myself as a team player and quick learner.  \\n  \\nKey Assignments:  \\n\\uf0b7 Prompt engineering, Fine tuning, Deployment of LLM models.  \\n\\uf0b7 Chatbot development using Azure Bot Service, Microsoft Bot framework, C#, .Net Core  \\n\\uf0b7 Application Development and maintenance using .NET Core, Web API with MS SQL Server     \\n\\uf0b7 Code migration of legacy system into modern application  \\n\\uf0b7 Web API Development and maintenance  \\n\\uf0b7 Automation of manual activities such as file pulling from remote server, Database backup  \\n\\uf0b7 Code Analysis, Impact analysis and code refactoring  \\n  \\nSkillset:  \\nLanguage, Framework and Technology  C#, .Net Core, Python, WEB API, Generative AI, \\nAzure AI Foundry, Prompt Engineering  \\nCloud Services  Azure Bot Service, Azure Open AI, Azure Function \\nApp, Application Insights, App Service  \\nDatabase  MS-SQL Server \\nVersion Control  Git, BitBucket  \\nIDE  Visual Studio 2019, 2022, VS Code  \\n  \\n  \\nWork Experience:   \\nCompany Name  Duration  \\nCognizant                            Aug 2022 – Till date  \\nInfosys   July 2021 – Aug 2022  \\nKanaka Software Consulting Pvt. Ltd    Sept 2019 – June 2021  \\n  \\n  \\nProjects Worked on:  \\n \\nGAIC                                         Company: Cognizant   \\nDescription: Proposed application is based on transforming legacy code to IDMC with the help of \\nGenerative AI. The project mainly consists of two sections. 1. Reverse engineering 2. Forward \\nEngineering. Reverse engineering involves conversion of legacy code into meaningful explanations \\nthat will be referred by developers in forward engineering. 2. Forward engineering involves \\nconverting legacy code into IDMC Snowflake queries with the help of LLM. In both of these sections, \\nprompt engineering, chain of thoughts and few shots played vital role.  \\nTechnology/Skills used: Python, Azure Open AI service, GPT-4 model, Prompt Engineering, SQL'), Document(metadata={'producer': 'Microsoft® Word 2016', 'creator': 'Microsoft® Word 2016', 'creationdate': '2025-04-09T08:58:32+05:30', 'author': 'Anurag', 'moddate': '2025-04-09T08:58:32+05:30', 'source': 'C:/Users/Anurag/Desktop/Updated Resume - Omkar Godse.pdf', 'total_pages': 2, 'page': 1, 'page_label': '2'}, page_content='Chatbot Development for Philips                                   Company: Cognizant   \\nDescription: Proposed application is a chatbot for QCL (Quality Compliance and Learning) analytics. \\nThe business users /supervisors do not have direct access to Quality Compliance Learning metrics \\nand training. Admins share these details manually to the business. A query-based chatbot allows \\nbusiness users to access KPI data that they are authorized to view.\\u202f  \\nTechnology used: C#, .Net Core, MS Bot Framework, Azure Bot Service, Azure Functions, App Service  \\n \\n  \\nAH – Alignment Healthcare                                    Company: Cognizant   \\nDescription: Alignment Healthcare is a medical insurance company that offers medicare plans with \\n24/7 access to on demand care, in-person, in-home or mobile devices. Member can enroll into \\nvarious plans such as – HMO, PPO, SNP, C-SNP. I worked on below modules in AVA – Enrollment:   \\n1. AVA Web Enrollment development   \\n2. PCP Auto assignment development  \\n3. WebModules API AEP changes and testing  \\n4. AVA Paper Enrollment  \\n5. Provider Data Admin development  \\nTechnology used: C#, .Net Core, Web API, SQL Server, Cosmos DB, Azure Functions, App Service  \\n \\n  \\nARR – Account Receivable Reports                                                                                 Company: Infosys   \\nDescription: Proposed system belongs to Telecom domain and allows accounts and finance \\nprofessionals to easily access reports for day-to-day activities and to make smarter planning. The \\nsystem collects data from various sources, loads it into database and present it on UI as per the \\nneed.  \\nTechnology used: C#, ASP .Net, SQL Server  \\n  \\n \\nVMAX                                                                                                       Company: Kanaka Software Pvt. Ltd.   \\nDescription: Proposed system is white labelling solution and provides software as a Service (SaaS) \\nmodel to healthcare entities. It forecasts future year’s payments of hospitals. VMAX is a Value \\nMaximizer which helps hospitals by providing forecasted data about future year’s payments and \\nreimbursement. It allows hospitals to create, view and export various reports.  \\nTechnology used: C#, .Net Core, Web API, SQL Server  \\n  \\n \\n \\n \\nEducational details:  \\nMCA from Pimpri – Chinchwad College of Engineering, Pune in 2019. Secured First Class with \\nDistinction.')]\n"
     ]
    }
   ],
   "source": [
    "from langchain_community.document_loaders import PyPDFLoader\n",
    "\n",
    "file_path = \"C:/Users/Anurag/Desktop/Updated Resume - Omkar Godse.pdf\"\n",
    "loader = PyPDFLoader(file_path)\n",
    "pages = loader.load_and_split()\n",
    "print(pages)"
   ]
  },
  {
   "cell_type": "code",
   "execution_count": null,
   "id": "ae2b1d0d-e24e-4a96-9b31-895f629b6c36",
   "metadata": {},
   "outputs": [],
   "source": []
  }
 ],
 "metadata": {
  "kernelspec": {
   "display_name": "Python 3 (ipykernel)",
   "language": "python",
   "name": "python3"
  },
  "language_info": {
   "codemirror_mode": {
    "name": "ipython",
    "version": 3
   },
   "file_extension": ".py",
   "mimetype": "text/x-python",
   "name": "python",
   "nbconvert_exporter": "python",
   "pygments_lexer": "ipython3",
   "version": "3.12.7"
  }
 },
 "nbformat": 4,
 "nbformat_minor": 5
}
